{
  "nbformat": 4,
  "nbformat_minor": 0,
  "metadata": {
    "colab": {
      "provenance": [],
      "authorship_tag": "ABX9TyNnWZQwUZlOOEoGVCes+B24",
      "include_colab_link": true
    },
    "kernelspec": {
      "name": "python3",
      "display_name": "Python 3"
    },
    "language_info": {
      "name": "python"
    }
  },
  "cells": [
    {
      "cell_type": "markdown",
      "metadata": {
        "id": "view-in-github",
        "colab_type": "text"
      },
      "source": [
        "<a href=\"https://colab.research.google.com/github/lasantha13/Colab/blob/main/Breast_Cancer.ipynb\" target=\"_parent\"><img src=\"https://colab.research.google.com/assets/colab-badge.svg\" alt=\"Open In Colab\"/></a>"
      ]
    },
    {
      "cell_type": "code",
      "source": [
        "# importing basic libraries\n",
        "import numpy as np\n",
        "import pandas as pd\n",
        "import matplotlib.pyplot as plt\n",
        "import seaborn as sns\n",
        "%matplotlib inline"
      ],
      "metadata": {
        "id": "rFJfw1LT0GTG"
      },
      "execution_count": null,
      "outputs": []
    },
    {
      "cell_type": "code",
      "execution_count": null,
      "metadata": {
        "colab": {
          "base_uri": "https://localhost:8080/",
          "height": 346
        },
        "id": "bd4ROMw0dD2S",
        "outputId": "4b8c99c7-6ce4-4e02-e078-46702967eb39"
      },
      "outputs": [
        {
          "output_type": "error",
          "ename": "MessageError",
          "evalue": "ignored",
          "traceback": [
            "\u001b[0;31m---------------------------------------------------------------------------\u001b[0m",
            "\u001b[0;31mMessageError\u001b[0m                              Traceback (most recent call last)",
            "\u001b[0;32m<ipython-input-2-8569279027fe>\u001b[0m in \u001b[0;36m<cell line: 2>\u001b[0;34m()\u001b[0m\n\u001b[1;32m      1\u001b[0m \u001b[0;32mfrom\u001b[0m \u001b[0mgoogle\u001b[0m\u001b[0;34m.\u001b[0m\u001b[0mcolab\u001b[0m \u001b[0;32mimport\u001b[0m \u001b[0mdrive\u001b[0m\u001b[0;34m\u001b[0m\u001b[0;34m\u001b[0m\u001b[0m\n\u001b[0;32m----> 2\u001b[0;31m \u001b[0mdrive\u001b[0m\u001b[0;34m.\u001b[0m\u001b[0mmount\u001b[0m\u001b[0;34m(\u001b[0m\u001b[0;34m'/content/drive'\u001b[0m\u001b[0;34m)\u001b[0m\u001b[0;34m\u001b[0m\u001b[0;34m\u001b[0m\u001b[0m\n\u001b[0m\u001b[1;32m      3\u001b[0m \u001b[0mdf\u001b[0m \u001b[0;34m=\u001b[0m \u001b[0mpd\u001b[0m\u001b[0;34m.\u001b[0m\u001b[0mread_csv\u001b[0m\u001b[0;34m(\u001b[0m\u001b[0;34m'/content/drive/My Drive/Work/Applied stats/Pytohn/Breast cancer/data.csv'\u001b[0m\u001b[0;34m)\u001b[0m\u001b[0;34m\u001b[0m\u001b[0;34m\u001b[0m\u001b[0m\n",
            "\u001b[0;32m/usr/local/lib/python3.10/dist-packages/google/colab/drive.py\u001b[0m in \u001b[0;36mmount\u001b[0;34m(mountpoint, force_remount, timeout_ms, readonly)\u001b[0m\n\u001b[1;32m    101\u001b[0m \u001b[0;32mdef\u001b[0m \u001b[0mmount\u001b[0m\u001b[0;34m(\u001b[0m\u001b[0mmountpoint\u001b[0m\u001b[0;34m,\u001b[0m \u001b[0mforce_remount\u001b[0m\u001b[0;34m=\u001b[0m\u001b[0;32mFalse\u001b[0m\u001b[0;34m,\u001b[0m \u001b[0mtimeout_ms\u001b[0m\u001b[0;34m=\u001b[0m\u001b[0;36m120000\u001b[0m\u001b[0;34m,\u001b[0m \u001b[0mreadonly\u001b[0m\u001b[0;34m=\u001b[0m\u001b[0;32mFalse\u001b[0m\u001b[0;34m)\u001b[0m\u001b[0;34m:\u001b[0m\u001b[0;34m\u001b[0m\u001b[0;34m\u001b[0m\u001b[0m\n\u001b[1;32m    102\u001b[0m   \u001b[0;34m\"\"\"Mount your Google Drive at the specified mountpoint path.\"\"\"\u001b[0m\u001b[0;34m\u001b[0m\u001b[0;34m\u001b[0m\u001b[0m\n\u001b[0;32m--> 103\u001b[0;31m   return _mount(\n\u001b[0m\u001b[1;32m    104\u001b[0m       \u001b[0mmountpoint\u001b[0m\u001b[0;34m,\u001b[0m\u001b[0;34m\u001b[0m\u001b[0;34m\u001b[0m\u001b[0m\n\u001b[1;32m    105\u001b[0m       \u001b[0mforce_remount\u001b[0m\u001b[0;34m=\u001b[0m\u001b[0mforce_remount\u001b[0m\u001b[0;34m,\u001b[0m\u001b[0;34m\u001b[0m\u001b[0;34m\u001b[0m\u001b[0m\n",
            "\u001b[0;32m/usr/local/lib/python3.10/dist-packages/google/colab/drive.py\u001b[0m in \u001b[0;36m_mount\u001b[0;34m(mountpoint, force_remount, timeout_ms, ephemeral, readonly)\u001b[0m\n\u001b[1;32m    130\u001b[0m   )\n\u001b[1;32m    131\u001b[0m   \u001b[0;32mif\u001b[0m \u001b[0mephemeral\u001b[0m\u001b[0;34m:\u001b[0m\u001b[0;34m\u001b[0m\u001b[0;34m\u001b[0m\u001b[0m\n\u001b[0;32m--> 132\u001b[0;31m     _message.blocking_request(\n\u001b[0m\u001b[1;32m    133\u001b[0m         \u001b[0;34m'request_auth'\u001b[0m\u001b[0;34m,\u001b[0m \u001b[0mrequest\u001b[0m\u001b[0;34m=\u001b[0m\u001b[0;34m{\u001b[0m\u001b[0;34m'authType'\u001b[0m\u001b[0;34m:\u001b[0m \u001b[0;34m'dfs_ephemeral'\u001b[0m\u001b[0;34m}\u001b[0m\u001b[0;34m,\u001b[0m \u001b[0mtimeout_sec\u001b[0m\u001b[0;34m=\u001b[0m\u001b[0;32mNone\u001b[0m\u001b[0;34m\u001b[0m\u001b[0;34m\u001b[0m\u001b[0m\n\u001b[1;32m    134\u001b[0m     )\n",
            "\u001b[0;32m/usr/local/lib/python3.10/dist-packages/google/colab/_message.py\u001b[0m in \u001b[0;36mblocking_request\u001b[0;34m(request_type, request, timeout_sec, parent)\u001b[0m\n\u001b[1;32m    174\u001b[0m       \u001b[0mrequest_type\u001b[0m\u001b[0;34m,\u001b[0m \u001b[0mrequest\u001b[0m\u001b[0;34m,\u001b[0m \u001b[0mparent\u001b[0m\u001b[0;34m=\u001b[0m\u001b[0mparent\u001b[0m\u001b[0;34m,\u001b[0m \u001b[0mexpect_reply\u001b[0m\u001b[0;34m=\u001b[0m\u001b[0;32mTrue\u001b[0m\u001b[0;34m\u001b[0m\u001b[0;34m\u001b[0m\u001b[0m\n\u001b[1;32m    175\u001b[0m   )\n\u001b[0;32m--> 176\u001b[0;31m   \u001b[0;32mreturn\u001b[0m \u001b[0mread_reply_from_input\u001b[0m\u001b[0;34m(\u001b[0m\u001b[0mrequest_id\u001b[0m\u001b[0;34m,\u001b[0m \u001b[0mtimeout_sec\u001b[0m\u001b[0;34m)\u001b[0m\u001b[0;34m\u001b[0m\u001b[0;34m\u001b[0m\u001b[0m\n\u001b[0m",
            "\u001b[0;32m/usr/local/lib/python3.10/dist-packages/google/colab/_message.py\u001b[0m in \u001b[0;36mread_reply_from_input\u001b[0;34m(message_id, timeout_sec)\u001b[0m\n\u001b[1;32m    101\u001b[0m     ):\n\u001b[1;32m    102\u001b[0m       \u001b[0;32mif\u001b[0m \u001b[0;34m'error'\u001b[0m \u001b[0;32min\u001b[0m \u001b[0mreply\u001b[0m\u001b[0;34m:\u001b[0m\u001b[0;34m\u001b[0m\u001b[0;34m\u001b[0m\u001b[0m\n\u001b[0;32m--> 103\u001b[0;31m         \u001b[0;32mraise\u001b[0m \u001b[0mMessageError\u001b[0m\u001b[0;34m(\u001b[0m\u001b[0mreply\u001b[0m\u001b[0;34m[\u001b[0m\u001b[0;34m'error'\u001b[0m\u001b[0;34m]\u001b[0m\u001b[0;34m)\u001b[0m\u001b[0;34m\u001b[0m\u001b[0;34m\u001b[0m\u001b[0m\n\u001b[0m\u001b[1;32m    104\u001b[0m       \u001b[0;32mreturn\u001b[0m \u001b[0mreply\u001b[0m\u001b[0;34m.\u001b[0m\u001b[0mget\u001b[0m\u001b[0;34m(\u001b[0m\u001b[0;34m'data'\u001b[0m\u001b[0;34m,\u001b[0m \u001b[0;32mNone\u001b[0m\u001b[0;34m)\u001b[0m\u001b[0;34m\u001b[0m\u001b[0;34m\u001b[0m\u001b[0m\n\u001b[1;32m    105\u001b[0m \u001b[0;34m\u001b[0m\u001b[0m\n",
            "\u001b[0;31mMessageError\u001b[0m: Error: credential propagation was unsuccessful"
          ]
        }
      ],
      "source": [
        "\n",
        "from google.colab import drive\n",
        "drive.mount('/content/drive')\n",
        "df = pd.read_csv('/content/drive/My Drive/Work/Applied stats/Pytohn/Breast cancer/data.csv')"
      ]
    },
    {
      "cell_type": "markdown",
      "source": [
        "https://rstudio-pubs-static.s3.amazonaws.com/329390_c397ce255b364013a933c34ba63c2db2.html"
      ],
      "metadata": {
        "id": "USHWY19raFyn"
      }
    },
    {
      "cell_type": "markdown",
      "source": [
        "# New Section"
      ],
      "metadata": {
        "id": "4SlnCpLWSEM6"
      }
    },
    {
      "cell_type": "code",
      "source": [
        "df.info()"
      ],
      "metadata": {
        "id": "T1A4C_qgV1mY"
      },
      "execution_count": null,
      "outputs": []
    },
    {
      "cell_type": "code",
      "source": [
        "df.describe().T"
      ],
      "metadata": {
        "id": "k5Tz6SFaV4kS"
      },
      "execution_count": null,
      "outputs": []
    },
    {
      "cell_type": "markdown",
      "source": [
        "# Descriptive Analytics"
      ],
      "metadata": {
        "id": "Nd12CmNIWtap"
      }
    },
    {
      "cell_type": "code",
      "source": [
        "df.head()"
      ],
      "metadata": {
        "id": "U6FL6fUnWxPo"
      },
      "execution_count": null,
      "outputs": []
    },
    {
      "cell_type": "code",
      "source": [
        "fig =df.diagnosis.value_counts().plot(kind='bar', color = ['yellow','green'])\n",
        "fig.set_xticklabels(labels=['Benigh','Malignant'],rotation=360);\n",
        "plt.title('Breast cancer Diagnosis')\n",
        "plt.ylabel('count');"
      ],
      "metadata": {
        "id": "RqteBsCvaQW2"
      },
      "execution_count": null,
      "outputs": []
    },
    {
      "cell_type": "code",
      "source": [
        "plt.figure(figsize=(10,6))\n",
        "plt.scatter(df.Radius_mean[df.diagnosis=='B'],df.concavity_worst[df.diagnosis=='B'],color='green')\n",
        "plt.scatter(df.Radius_mean[df.diagnosis=='M'],df.concavity_worst[df.diagnosis=='M'],color='Red')\n",
        "plt.xlabel('Radius Mean')\n",
        "plt.ylabel('Concavity Worst')\n",
        "plt.legend(['Benign','Malignant'])\n",
        "plt.title('Breasr Cancer Radius Mean aganist Concavity Worst');"
      ],
      "metadata": {
        "id": "uByxnpCg1rDr"
      },
      "execution_count": null,
      "outputs": []
    },
    {
      "cell_type": "code",
      "source": [
        "plt.figure(figsize=(10,6))\n",
        "plt.scatter(df.Radius_mean[df.diagnosis=='B'],df.smoothness_mean[df.diagnosis=='B'],color='green')\n",
        "plt.scatter(df.Radius_mean[df.diagnosis=='M'],df.smoothness_mean[df.diagnosis=='M'],color='Red')\n",
        "plt.xlabel('Radius Mean')\n",
        "plt.ylabel('Smoothness Mean')\n",
        "plt.legend(['Benign','Malignant'])\n",
        "plt.title('Breasr Cancer Radius Mean aganist Smoothness Mean');"
      ],
      "metadata": {
        "id": "sMOjP5C40kmf"
      },
      "execution_count": null,
      "outputs": []
    },
    {
      "cell_type": "code",
      "source": [
        "#Create script to genertate box [lot for all variable\n",
        "#get column list \n",
        "df_col = df.drop(['id','diagnosis'],axis=1)\n",
        "df_col2 = df_col.columns"
      ],
      "metadata": {
        "id": "JuM8fQMQ50IV"
      },
      "execution_count": null,
      "outputs": []
    },
    {
      "cell_type": "code",
      "source": [
        "df_col2"
      ],
      "metadata": {
        "id": "PeBDPvVs6vf-"
      },
      "execution_count": null,
      "outputs": []
    },
    {
      "cell_type": "code",
      "source": [
        "fig, axes = plt.subplots(10, 3, figsize=(30,50))\n",
        "a1 = 0\n",
        "a2 = 0\n",
        "for i, col in enumerate(df_col2):\n",
        "  \n",
        "  if a2 > 2:\n",
        "    a2 = 0\n",
        "    a1 = a1+1\n",
        "  ax0 = axes[a1,a2]\n",
        "  #sns.boxplot(data=df, x='diagnosis',y=col, ax=ax0)\n",
        "  #print (i)\n",
        "  #print(ax0)\n",
        "  a2 = a2+1\n",
        "  sns.boxplot(data=df, x='diagnosis',y=col, ax=ax0).set(title=f\"Diagnosis Vs {col}\")\n",
        "plt.show()\n"
      ],
      "metadata": {
        "id": "Vohglxq57oJ0"
      },
      "execution_count": null,
      "outputs": []
    },
    {
      "cell_type": "code",
      "source": [],
      "metadata": {
        "id": "17krmEX1nG5L"
      },
      "execution_count": null,
      "outputs": []
    },
    {
      "cell_type": "markdown",
      "source": [
        "#Data Wrangling"
      ],
      "metadata": {
        "id": "ZShG1PBKMU2D"
      }
    },
    {
      "cell_type": "code",
      "source": [
        "#missing values\n",
        "df.isnull().sum()"
      ],
      "metadata": {
        "id": "KMbMzRz0MYPu"
      },
      "execution_count": null,
      "outputs": []
    },
    {
      "cell_type": "code",
      "source": [
        "#check for outliars\n",
        "df.shape"
      ],
      "metadata": {
        "id": "_9FWiOvOMeVg"
      },
      "execution_count": null,
      "outputs": []
    },
    {
      "cell_type": "code",
      "source": [
        "#create funtion for outliars\n",
        "def clean_outlairs(df,column_list):\n",
        "  for col1 in column_list:\n",
        "    q1 = df[col1].quantile(0.25)\n",
        "    q3 = df[col1].quantile(0.75)\n",
        "    iqr = q3-q1\n",
        "  #remove outliars\n",
        "    df= df[((df[col1]> q1-1.5*iqr)&(df[col1]<q3+1.5*iqr))]\n",
        "  return(df)\n",
        "\n"
      ],
      "metadata": {
        "id": "VazAZnkHM1qU"
      },
      "execution_count": null,
      "outputs": []
    },
    {
      "cell_type": "code",
      "source": [
        " df_no_outliars =clean_outlairs(df,df_col2)\n",
        " df_no_outliars.shape"
      ],
      "metadata": {
        "id": "cWL8aeOE5Z8-"
      },
      "execution_count": null,
      "outputs": []
    },
    {
      "cell_type": "code",
      "source": [
        "fig, axes = plt.subplots(10, 3, figsize=(30,50))\n",
        "a1 = 0\n",
        "a2 = 0\n",
        "for i, col in enumerate(df_col2):\n",
        "  \n",
        "  if a2 > 2:\n",
        "    a2 = 0\n",
        "    a1 = a1+1\n",
        "  ax0 = axes[a1,a2]\n",
        "  #sns.boxplot(data=df, x='diagnosis',y=col, ax=ax0)\n",
        "  #print (i)\n",
        "  #print(ax0)\n",
        "  a2 = a2+1\n",
        "  sns.boxplot(data=df_no_outliars, x='diagnosis',y=col, ax=ax0).set(title=f\"Diagnosis Vs {col}\")\n",
        "plt.show()\n"
      ],
      "metadata": {
        "id": "XdyUWzqo5iua"
      },
      "execution_count": null,
      "outputs": []
    },
    {
      "cell_type": "code",
      "source": [],
      "metadata": {
        "id": "QYr_mn4oAN3W"
      },
      "execution_count": null,
      "outputs": []
    },
    {
      "cell_type": "markdown",
      "source": [
        "#Model development"
      ],
      "metadata": {
        "id": "nBuz7zpiIQ8c"
      }
    },
    {
      "cell_type": "markdown",
      "source": [
        "##create target variable list and dependant vairables"
      ],
      "metadata": {
        "id": "Q08sTXGmIeGw"
      }
    },
    {
      "cell_type": "markdown",
      "source": [
        "Things to do \n",
        "\n",
        "\n",
        "1.   standadization\n",
        "2.   Feature selection\n",
        "3. parameter tuning\n",
        "4.  model deployment\n",
        "5. model assessement and validation\n",
        "6. working wityh imbalanced data set\n",
        "7. Hyperparatmeter tuning\n",
        "\n",
        "\n",
        "\n",
        "\n",
        "\n",
        "\n",
        "\n",
        "\n"
      ],
      "metadata": {
        "id": "V5JfgDydzBXr"
      }
    },
    {
      "cell_type": "code",
      "source": [
        "#Crete variables\n",
        "#df_no2=df_no.drop(['id'],axis=1)\n",
        "#y= df_no2.iloc[:,0:1]\n",
        "X= df.drop(['id','diagnosis'],axis=1)\n",
        "#X = df.iloc[:,1:]\n"
      ],
      "metadata": {
        "id": "5gXyOtxoIYlw"
      },
      "execution_count": null,
      "outputs": []
    },
    {
      "cell_type": "code",
      "source": [
        "from sklearn.preprocessing import OrdinalEncoder\n",
        "enc=OrdinalEncoder()\n",
        "enc.fit(df[['diagnosis']])\n",
        "df[['diagnosis']]=enc.transform(df[['diagnosis']])\n",
        "df['diagnosis'] =df['diagnosis'].astype('int')"
      ],
      "metadata": {
        "id": "4ugikPSm8yUc"
      },
      "execution_count": null,
      "outputs": []
    },
    {
      "cell_type": "code",
      "source": [
        "y = df['diagnosis']\n",
        "y"
      ],
      "metadata": {
        "id": "5DTAx4VtC74F"
      },
      "execution_count": null,
      "outputs": []
    },
    {
      "cell_type": "code",
      "source": [
        "X.shape"
      ],
      "metadata": {
        "id": "l-zUVIeyI8IG"
      },
      "execution_count": null,
      "outputs": []
    },
    {
      "cell_type": "code",
      "source": [
        "#data preparation \n",
        "from sklearn.model_selection import train_test_split\n",
        "from sklearn.preprocessing import StandardScaler\n",
        "from sklearn.metrics import mean_squared_error, mean_absolute_error, confusion_matrix, r2_score, accuracy_score,classification_report,roc_curve\n",
        "from sklearn.model_selection import (GridSearchCV, KFold, train_test_split, cross_val_score)\n",
        "\n",
        "#modelling \n",
        "\n",
        "from sklearn.linear_model import LogisticRegression\n",
        "from sklearn.naive_bayes import GaussianNB\n",
        "from xgboost import XGBClassifier\n",
        "from sklearn.ensemble import RandomForestClassifier\n",
        "from sklearn.tree import DecisionTreeClassifier\n",
        "from sklearn.neighbors import KNeighborsClassifier\n",
        "from sklearn.naive_bayes import GaussianNB\n",
        "from sklearn.svm import SVC\n",
        "#ensembling\n",
        "#from mlxtend.classifier import StackingCVClassifier"
      ],
      "metadata": {
        "id": "OZtXQtngLkoK"
      },
      "execution_count": null,
      "outputs": []
    },
    {
      "cell_type": "code",
      "source": [
        "X"
      ],
      "metadata": {
        "id": "8-h3Ub8BJoSw"
      },
      "execution_count": null,
      "outputs": []
    },
    {
      "cell_type": "code",
      "source": [
        "#Train test split\n",
        "X_train,X_test, y_train,y_test = train_test_split(X,y,test_size=.3,random_state=42)\n",
        "\n",
        "X_train2,X_test2, y_train2,y_test2 = train_test_split(X,y,test_size=.3,random_state=42)"
      ],
      "metadata": {
        "id": "lJE3sbPRLu6m"
      },
      "execution_count": null,
      "outputs": []
    },
    {
      "cell_type": "code",
      "source": [
        "y_test.shape"
      ],
      "metadata": {
        "id": "tE5Jx9okNpDO"
      },
      "execution_count": null,
      "outputs": []
    },
    {
      "cell_type": "code",
      "source": [
        "#Standadize data set\n",
        "scaler = StandardScaler()\n",
        "X_train = scaler.fit_transform(X_train)\n",
        "#test NOT need 'FIT' trandfrom only transfrom\n",
        "X_test = scaler.transform(X_test)"
      ],
      "metadata": {
        "id": "T3wcsCiYN51H"
      },
      "execution_count": null,
      "outputs": []
    },
    {
      "cell_type": "markdown",
      "source": [
        "##Model Training"
      ],
      "metadata": {
        "id": "KzSJcpJVQLQN"
      }
    },
    {
      "cell_type": "code",
      "source": [
        "logisticR = LogisticRegression()\n",
        "logisticR.fit(X_train,y_train)"
      ],
      "metadata": {
        "id": "NdZnCNrSRMOU"
      },
      "execution_count": null,
      "outputs": []
    },
    {
      "cell_type": "code",
      "source": [
        "y_hat = logisticR.predict(X_test)\n"
      ],
      "metadata": {
        "id": "DV00CVyWQFtl"
      },
      "execution_count": null,
      "outputs": []
    },
    {
      "cell_type": "code",
      "source": [
        "logisticR.score(X_test,y_test)"
      ],
      "metadata": {
        "id": "M3vZHUenSzqx"
      },
      "execution_count": null,
      "outputs": []
    },
    {
      "cell_type": "code",
      "source": [
        "from sklearn.metrics import accuracy_score\n",
        "accuracy_score(y_hat,y_test)"
      ],
      "metadata": {
        "id": "6kcantOam0nd"
      },
      "execution_count": null,
      "outputs": []
    },
    {
      "cell_type": "code",
      "source": [
        "from sklearn.metrics import mean_absolute_error\n",
        "me= mean_absolute_error(y_hat,y_test)\n",
        "me"
      ],
      "metadata": {
        "id": "xl09pCeWm5zA"
      },
      "execution_count": null,
      "outputs": []
    },
    {
      "cell_type": "code",
      "source": [],
      "metadata": {
        "id": "NKTG80vk_Web"
      },
      "execution_count": null,
      "outputs": []
    }
  ]
}